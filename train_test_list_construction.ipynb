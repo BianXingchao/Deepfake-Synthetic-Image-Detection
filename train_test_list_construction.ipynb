{
 "cells": [
  {
   "cell_type": "code",
   "execution_count": 26,
   "metadata": {},
   "outputs": [],
   "source": [
    "import os\n",
    "import glob\n",
    "import skimage.io as io\n",
    "import shutil"
   ]
  },
  {
   "cell_type": "code",
   "execution_count": 46,
   "metadata": {},
   "outputs": [],
   "source": [
    "image_path = []\n",
    "directory = os.walk(r'/storage0/bxc/data/train_dataset/real')\n",
    "count = 0\n",
    "for path ,dir_,filelist in directory:\n",
    "    for filename in filelist:\n",
    "        if filename.endswith('jpg'):\n",
    "            image_path.append(path+'/'+filename)\n",
    "            #shutil.copy(path+'/'+filename, '/storage0/bxc/data/train_dataset/real')\n",
    "            #os.rename(r'/storage0/bxc/data/train_dataset/real/'+filename, r'/storage0/bxc/data/train_dataset/real/'+str(count)+'.jpg')\n",
    "            #count +=1\n",
    "            #break"
   ]
  },
  {
   "cell_type": "code",
   "execution_count": 47,
   "metadata": {},
   "outputs": [
    {
     "name": "stdout",
     "output_type": "stream",
     "text": [
      "574125\n",
      "['/storage0/bxc/data/train_dataset/real/598008.jpg', '/storage0/bxc/data/train_dataset/real/349654.jpg', '/storage0/bxc/data/train_dataset/real/55721.jpg', '/storage0/bxc/data/train_dataset/real/207498.jpg', '/storage0/bxc/data/train_dataset/real/523247.jpg']\n"
     ]
    }
   ],
   "source": [
    "print(len(image_path))\n",
    "print(image_path[0:5])"
   ]
  },
  {
   "cell_type": "code",
   "execution_count": 48,
   "metadata": {},
   "outputs": [],
   "source": [
    "import random\n",
    "random.seed(10)\n",
    "val = random.sample(image_path,int(len(image_path)*0.01))\n",
    "for image in val:\n",
    "    shutil.move(image,'/storage0/bxc/data/validation_dataset/real/')"
   ]
  },
  {
   "cell_type": "code",
   "execution_count": 49,
   "metadata": {},
   "outputs": [],
   "source": [
    "image_path = []\n",
    "directory = os.walk(r'/storage0/bxc/data/train_dataset/fake')\n",
    "count = 0\n",
    "for path ,dir_,filelist in directory:\n",
    "    for filename in filelist:\n",
    "        if filename.endswith('jpg'):\n",
    "            image_path.append(path+'/'+filename)\n",
    "            #shutil.copy(path+'/'+filename, '/storage0/bxc/data/train_dataset/fake')\n",
    "            #os.rename(r'/storage0/bxc/data/train_dataset/fake/'+filename, r'/storage0/bxc/data/train_dataset/fake/'+str(count)+'.jpg')\n",
    "            #count +=1\n",
    "            #break"
   ]
  },
  {
   "cell_type": "code",
   "execution_count": 50,
   "metadata": {},
   "outputs": [
    {
     "name": "stdout",
     "output_type": "stream",
     "text": [
      "708866\n",
      "['/storage0/bxc/data/train_dataset/fake/441884.jpg', '/storage0/bxc/data/train_dataset/fake/305003.jpg', '/storage0/bxc/data/train_dataset/fake/637756.jpg', '/storage0/bxc/data/train_dataset/fake/44926.jpg']\n"
     ]
    }
   ],
   "source": [
    "print(len(image_path))\n",
    "print(image_path[-5:-1])"
   ]
  },
  {
   "cell_type": "code",
   "execution_count": 51,
   "metadata": {},
   "outputs": [],
   "source": [
    "import random\n",
    "random.seed(10)\n",
    "val1 = random.sample(image_path,int(len(image_path)*0.01))\n",
    "for image in val1:\n",
    "    shutil.move(image,'/storage0/bxc/data/validation_dataset/fake/')"
   ]
  },
  {
   "cell_type": "code",
   "execution_count": null,
   "metadata": {},
   "outputs": [],
   "source": []
  },
  {
   "cell_type": "code",
   "execution_count": 31,
   "metadata": {},
   "outputs": [
    {
     "name": "stdout",
     "output_type": "stream",
     "text": [
      "['real/CW/20201012/175377/image64/image_00046.jpg 0', 'fake/CW/20200917/cw-seunguk/fo/output_cw-seunguk_005_5/image_00003.jpg 1', 'fake/EQ/20200827/cheeky/dffs/output_cheeky_110/image_00003.jpg 1', 'fake/CW/20200911/cw-hyaejin/dfl/output_cw-hyaejin_124/image_00003.jpg 1', 'fake/EQ/20200824/seunghae/fsgan/output_seunghae_156/image_00003.jpg 1']\n",
      "['fake/EQ/20200902/suahv/fsgan/output_suahv_138/image_00003.jpg 1', 'fake/CW/20200831/cw-donghee/fo/output_cw-donghee_030/image_00003.jpg 1', 'fake/EQ/20200912/gummy/fsgan/output_gummy_106/image_00003.jpg 1', 'fake/EQ/20200822/mildmilk/dfl/output_mildmilk_084/image_00003.jpg 1', 'fake/EQ/20200815/eternal/fo/output_eternal_083/image_00003.jpg 1']\n"
     ]
    }
   ],
   "source": [
    "import random\n",
    "random.shuffle(image_path)\n",
    "test_path,train_path=[],[]\n",
    "test_path = image_path[0:19903]\n",
    "train_path = image_path[19903:len(image_path)]\n",
    "print(test_path[0:5])\n",
    "print(train_path[0:5])"
   ]
  },
  {
   "cell_type": "code",
   "execution_count": 21,
   "metadata": {},
   "outputs": [],
   "source": [
    "fileObject_train = open(r'/storage0/bxc/data/train/train_list_3st.txt', 'w')\n",
    "fileObject_test = open(r'/storage0/bxc/data/train/test_list_3st.txt', 'w')\n",
    "for path in test_path:\n",
    "    fileObject_test.write(path)\n",
    "    fileObject_test.write('\\n')\n",
    "for path in train_path:\n",
    "    fileObject_train.write(path)\n",
    "    fileObject_train.write('\\n')"
   ]
  },
  {
   "cell_type": "code",
   "execution_count": null,
   "metadata": {},
   "outputs": [],
   "source": []
  }
 ],
 "metadata": {
  "kernelspec": {
   "display_name": "Python 3",
   "language": "python",
   "name": "python3"
  },
  "language_info": {
   "codemirror_mode": {
    "name": "ipython",
    "version": 3
   },
   "file_extension": ".py",
   "mimetype": "text/x-python",
   "name": "python",
   "nbconvert_exporter": "python",
   "pygments_lexer": "ipython3",
   "version": "3.6.9"
  }
 },
 "nbformat": 4,
 "nbformat_minor": 4
}
