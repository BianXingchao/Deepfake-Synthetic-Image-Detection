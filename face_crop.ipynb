{
 "cells": [
  {
   "cell_type": "code",
   "execution_count": 2,
   "metadata": {},
   "outputs": [],
   "source": [
    "import os\n",
    "import glob\n",
    "from matplotlib import pyplot\n",
    "from matplotlib.patches import Rectangle\n",
    "from matplotlib.patches import Circle\n",
    "from mtcnn.mtcnn import MTCNN\n",
    "import skimage.io as io"
   ]
  },
  {
   "cell_type": "code",
   "execution_count": 12,
   "metadata": {},
   "outputs": [],
   "source": [
    "count = 0\n",
    "image_path = []\n",
    "directory = os.walk(r'/storage0/bxc/data/leaderboard')\n",
    "for path ,dir_,filelist in directory:\n",
    "    for filename in filelist:\n",
    "        if filename.endswith('jpg'):\n",
    "            image_path.append(path+'/'+filename)\n",
    "    image_path.sort()\n",
    "    fileObject = open(r'/storage0/bxc/data/leaderboard_mtcnn/leaderboard_txt/test{i}.txt'.format(i=count), 'w')\n",
    "    for path in image_path:\n",
    "        fileObject.write(path)\n",
    "        fileObject.write('\\n')\n",
    "    fileObject.close()\n",
    "    count+=1\n",
    "    image_path = []"
   ]
  },
  {
   "cell_type": "code",
   "execution_count": 17,
   "metadata": {},
   "outputs": [],
   "source": [
    "count = 0\n",
    "image_path = []\n",
    "directory = os.walk(r'/storage0/bxc/data/train/real')\n",
    "for path ,dir_,filelist in directory:\n",
    "    for filename in filelist:\n",
    "        if filename.endswith('jpg'):\n",
    "            image_path.append(path+'/'+filename)\n",
    "    image_path.sort()\n",
    "    if len(image_path) == 0:\n",
    "        continue\n",
    "    fileObject = open(r'/storage0/bxc/data/train_mtcnn/real_txt/test{i}.txt'.format(i=count), 'w')\n",
    "    for path in image_path:\n",
    "        fileObject.write(path)\n",
    "        fileObject.write('\\n')\n",
    "    fileObject.close()\n",
    "    count+=1\n",
    "    image_path = []"
   ]
  },
  {
   "cell_type": "code",
   "execution_count": 15,
   "metadata": {},
   "outputs": [],
   "source": [
    "count = 0\n",
    "image_path = []\n",
    "directory = os.walk(r'/storage0/bxc/data/train/fake')\n",
    "for path ,dir_,filelist in directory:\n",
    "\n",
    "    for filename in filelist:\n",
    "        if filename.endswith('jpg'):\n",
    "            image_path.append(path+'/'+filename)\n",
    "    image_path.sort()\n",
    "    if len(image_path) == 0:\n",
    "        continue\n",
    "    fileObject = open(r'/storage0/bxc/data/train_mtcnn/fake_txt/test{i}.txt'.format(i=count), 'w')\n",
    "    for path in image_path:\n",
    "        fileObject.write(path)\n",
    "        fileObject.write('\\n')\n",
    "    fileObject.close()\n",
    "    count+=1\n",
    "    image_path = []"
   ]
  },
  {
   "cell_type": "code",
   "execution_count": null,
   "metadata": {},
   "outputs": [],
   "source": []
  }
 ],
 "metadata": {
  "kernelspec": {
   "display_name": "Python 3",
   "language": "python",
   "name": "python3"
  },
  "language_info": {
   "codemirror_mode": {
    "name": "ipython",
    "version": 3
   },
   "file_extension": ".py",
   "mimetype": "text/x-python",
   "name": "python",
   "nbconvert_exporter": "python",
   "pygments_lexer": "ipython3",
   "version": "3.6.9"
  }
 },
 "nbformat": 4,
 "nbformat_minor": 4
}
